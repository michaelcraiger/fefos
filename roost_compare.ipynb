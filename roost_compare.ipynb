{
 "cells": [
  {
   "cell_type": "markdown",
   "id": "f25f3943",
   "metadata": {},
   "source": [
    "## Roost comparison for Figure 3\n",
    "\n",
    "Here we compare the MAE values from the Roost learning curves to our MAE.\n",
    "We reproduce the MAE reported here: \n",
    "\n",
    "Predicting materials properties without crystal structure: deep representation learning from stoichiometry\n",
    "Rhys E. A. Goodall & Alpha A. Lee \n",
    "Nature communications\n",
    "\n",
    "To retrieve the csv files follow the zenodo link under data availability, and they are in the directory `results`. At time of writing this link is at https://doi.org/10.5281/zenodo.4133793\n",
    "\n",
    "This data is also used to calculate the MAE for the set of oxides we consider for FEFOS, which went in to create Figure 3."
   ]
  },
  {
   "cell_type": "code",
   "execution_count": 1,
   "id": "1685c70a",
   "metadata": {},
   "outputs": [],
   "source": [
    "import pandas as pd\n",
    "import numpy as np\n",
    "import os\n",
    "\n",
    "import matplotlib.pyplot as plt\n",
    "from matplotlib.ticker import ScalarFormatter\n"
   ]
  },
  {
   "cell_type": "code",
   "execution_count": 2,
   "id": "a07fd2e0",
   "metadata": {},
   "outputs": [],
   "source": [
    "# These csv files are ordered to match how we will plot them from left to right\n",
    "# on the learning curve, so the first csv file here was trained with the \n",
    "# least number of training points, the last one trained with the largest\n",
    "# number of training points\n",
    "csvs_in_order = [\n",
    "'test_data/ensemble_results_oqmd-ef_s-0_t-501.csv',\n",
    "'ensemble_results_oqmd-ef_s-0_t-230.csv',\n",
    "'ensemble_results_oqmd-ef_s-0_t-105.csv',\n",
    "'ensemble_results_oqmd-ef_s-0_t-48.csv',\n",
    "'ensemble_results_oqmd-ef_s-0_t-22.csv',\n",
    "'ensemble_results_oqmd-ef_s-0_t-10.csv',\n",
    "'ensemble_results_oqmd-ef_s-0_t-4.csv',\n",
    "'ensemble_results_oqmd-ef_s-0_t-2.csv',\n",
    "'ensemble_results_oqmd-ef_s-0_t-1.csv',\n",
    "]\n"
   ]
  },
  {
   "cell_type": "code",
   "execution_count": 3,
   "id": "2497df4f",
   "metadata": {},
   "outputs": [],
   "source": [
    "def calculate_errors(oxide_condition, csvs):\n",
    "    \"\"\"\n",
    "    This function calculates the errors for a set of oxides which are conditioned on\n",
    "    the basis of a string which is used to condition over the id column\n",
    "    provided from the Nature Communications paper learning curves\n",
    "    Args:\n",
    "    oxide_condition: A string representing the ratio of oxygen we want to measure the\n",
    "    mean absolute errors for, must be of the form '0.600', i.e. it has to have this length\n",
    "    with 5 characters, and be a string.\n",
    "    \"\"\"\n",
    "    total_maes = []\n",
    "    oxide_maes = []\n",
    "    csvfiles = []\n",
    "    for csv in csvs:\n",
    "        df = pd.read_csv(csv)\n",
    "        #print(\"CSV filename for this ensemble test: {}\".format(csv))\n",
    "        csvfiles.append(csv)\n",
    "        try:\n",
    "            ensemble = df[['pred_0', 'pred_1', 'pred_2', 'pred_3', 'pred_4', 'pred_5', 'pred_6', 'pred_7', 'pred_8', 'pred_9']].mean(axis=1)\n",
    "            one_err = df['pred_0']\n",
    "        except KeyError:\n",
    "            ensemble = df[['pred-0', 'pred-1', 'pred-2', 'pred-3', 'pred-4', 'pred-5', 'pred-6', 'pred-7', 'pred-8', 'pred-9']].mean(axis=1)\n",
    "            one_err = df['pred-0']\n",
    "\n",
    "        #print(\"MAE ROOST all: {:.4f}\".format(np.mean(abs(df['target']-ensemble))))\n",
    "        total_maes.append(np.mean(abs(df['target']-ensemble)))\n",
    "        count = 0\n",
    "        one_vals = []\n",
    "        targets = []\n",
    "        ensembles = []\n",
    "        for df_index, comp in enumerate(df['composition']):\n",
    "            num_elements = 0\n",
    "            has_oxygen = False\n",
    "            for idx, c in enumerate(comp):\n",
    "                if c.isupper():\n",
    "                    num_elements+=1\n",
    "                    if c=='O' and comp[idx+1]=='0' and comp[idx+1:idx+6]==oxide_condition:\n",
    "                        # is oxygen \n",
    "                        has_oxygen = True\n",
    "            if num_elements==3 and has_oxygen:\n",
    "                count+=1\n",
    "                target = df.loc[df_index]['target']\n",
    "                targets.append(df.loc[df_index]['target'])\n",
    "                try:\n",
    "                    val = df.loc[df_index]['pred-0']\n",
    "                    one_vals.append(val)\n",
    "                    pred_sum = 0 \n",
    "                    for i in range(0, 10):\n",
    "                        pred_sum+=df.loc[df_index]['pred-{}'.format(i)]\n",
    "                    ensembles.append(0.1*pred_sum) \n",
    "                except KeyError:\n",
    "                    val = df.loc[df_index]['pred_0']\n",
    "                    one_vals.append(val)\n",
    "                    pred_sum = 0 \n",
    "                    for i in range(0, 10):\n",
    "                        pred_sum+=df.loc[df_index]['pred_{}'.format(i)]\n",
    "                    ensembles.append(0.1*pred_sum) \n",
    "        num_oxides = count\n",
    "        oxide_maes.append(np.mean(abs(np.array(targets)-np.array(ensembles))))\n",
    "        #print(\"MAE conditioned on oxides: {:.4f}\\n\".format(np.mean(abs(np.array(targets)-np.array(ensembles)))))\n",
    "        \n",
    "    return total_maes, oxide_maes, csvs, num_oxides\n"
   ]
  },
  {
   "cell_type": "code",
   "execution_count": 4,
   "id": "277c1a89",
   "metadata": {},
   "outputs": [],
   "source": [
    "roost_err1, mo_err, csv_files1, num_mo = calculate_errors(\"0.500\", csvs_in_order)\n",
    "roost_err2, m2o3_err, csv_files2, num_m2o3 = calculate_errors(\"0.600\", csvs_in_order)\n",
    "roost_err3, mo2_err, csv_files3, num_mo2 = calculate_errors(\"0.666\", csvs_in_order)\n",
    "\n",
    "# sanity check\n",
    "assert roost_err1==roost_err2==roost_err3\n",
    "assert csv_files1==csv_files2==csv_files3\n",
    "\n",
    "roost_err = roost_err1"
   ]
  },
  {
   "cell_type": "markdown",
   "id": "a4d1e5eb",
   "metadata": {},
   "source": [
    "## Plot learning curves"
   ]
  },
  {
   "cell_type": "code",
   "execution_count": 6,
   "id": "1392b6a4",
   "metadata": {},
   "outputs": [
    {
     "data": {
      "image/png": "[encoded data removed]",
      "text/plain": [
       "<Figure size 432x288 with 1 Axes>"
      ]
     },
     "metadata": {
      "needs_background": "light"
     },
     "output_type": "display_data"
    }
   ],
   "source": [
    "\n",
    "# taking values reported in the Nature Comm\n",
    "# https://www.nature.com/articles/s41467-020-19964-7\n",
    "training_points = [\n",
    "    461, 1005, 2200, 4812, 10499, 23096, 57740, 115480, 230959\n",
    "]\n",
    "\n",
    "fig = plt.figure()\n",
    "ax = fig.add_subplot(1, 1, 1)\n",
    "plt.plot(training_points, roost_err, 'ro', label='Roost All data')\n",
    "plt.plot(training_points, mo_err, 'bo', label='Roost MO')\n",
    "plt.plot(training_points, m2o3_err, 'go', label='Roost M2O3')\n",
    "plt.plot(training_points, mo2_err, 'ko', label='Roost MO2')\n",
    "ax.set_xscale('log')\n",
    "\n",
    "plt.axhline(0.1, label='FEFOS MAE')\n",
    "plt.legend()\n",
    "plt.ylabel(\"MAE (eV/atom)\")\n",
    "plt.xlabel(\"Number of training points\")\n",
    "plt.savefig(\"roost_comparison_together.pdf\")"
   ]
  },
  {
   "cell_type": "code",
   "execution_count": null,
   "id": "4e0853e2",
   "metadata": {},
   "outputs": [],
   "source": []
  }
 ],
 "metadata": {
  "kernelspec": {
   "display_name": "Python 3 (ipykernel)",
   "language": "python",
   "name": "python3"
  },
  "language_info": {
   "codemirror_mode": {
    "name": "ipython",
    "version": 3
   },
   "file_extension": ".py",
   "mimetype": "text/x-python",
   "name": "python",
   "nbconvert_exporter": "python",
   "pygments_lexer": "ipython3",
   "version": "3.9.7"
  }
 },
 "nbformat": 4,
 "nbformat_minor": 5
}
