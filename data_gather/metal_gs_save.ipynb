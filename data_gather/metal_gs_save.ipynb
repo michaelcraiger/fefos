{
 "cells": [
  {
   "cell_type": "code",
   "execution_count": 1,
   "id": "fdc9d5da",
   "metadata": {},
   "outputs": [],
   "source": [
    "import pickle\n",
    "\n",
    "from collections import defaultdict\n",
    "\n",
    "from pymatgen.ext.matproj import MPRester\n",
    "\n",
    "# Initialize the MP Rester\n",
    "mpr = MPRester('pn8XdbGhMrv90STu')\n"
   ]
  },
  {
   "cell_type": "code",
   "execution_count": 2,
   "id": "482a49ea",
   "metadata": {},
   "outputs": [],
   "source": [
    "ele2gs = defaultdict()\n",
    "\n",
    "actives = [ \"Ti\", \"V\", \"Cr\", \"Mn\", \"Fe\", \"Co\", \"Ni\", \"Cu\", \"Nb\", \"Mo\"]\n",
    "pairers = [\"Li\", \"Be\", \"Na\", \"Mg\", \"K\", \"Ca\", \"Rb\", \"Sr\", \"Cs\", \"Ba\", \n",
    "           \"Sc\",\n",
    "           \"Zn\", \"Ga\", \"Ge\", \"As\", \"Se\", \"Br\", \"Y\", \"Se\", \"Tc\", \"Cd\",\n",
    "           \"Ru\", \"Rh\", \"Pd\", \"Ag\",\n",
    "           \"In\", \"Sn\", \"Sb\", \"Te\", \"I\", \"Hg\", \"Tl\", \"Pb\", \"Bi\", \n",
    "          \"Hf\", \"Ta\", \"W\", \"Re\", \"Os\", \"Ir\", \"Pt\", \"Au\" ]\n",
    "\n",
    "\n",
    "for ele in actives+pairers:\n",
    "    entries = mpr.get_entries(ele)\n",
    "    for entry in entries:\n",
    "        ene_per_atom = entry.energy/list(dict(entry.composition).values())[0]\n",
    "        if ele not in ele2gs.keys():\n",
    "            ele2gs[ele] = ene_per_atom\n",
    "        elif ene_per_atom<ele2gs[ele]:\n",
    "            ele2gs[ele] = ene_per_atom\n",
    "    "
   ]
  },
  {
   "cell_type": "code",
   "execution_count": 4,
   "id": "0a4f36a2",
   "metadata": {},
   "outputs": [],
   "source": [
    "pickle.dump(ele2gs, open(\"ele2gs.p\", \"wb\"))\n",
    "\n",
    "gga_u_mixing_correction = {\n",
    "    \"V\": -1.700,\n",
    "    \"Cr\": -1.999,\n",
    "    \"Mn\": -1.668,\n",
    "    \"Fe\": -2.256,\n",
    "    \"Co\": -1.638,\n",
    "    \"Ni\": -2.541,\n",
    "    \"Mo\": -3.202,\n",
    "    \"W\": -4.438,\n",
    "}\n",
    "\n",
    "o_energy = -4.948\n",
    "o_correction = -0.687"
   ]
  },
  {
   "cell_type": "code",
   "execution_count": null,
   "id": "8137faf0",
   "metadata": {},
   "outputs": [],
   "source": []
  }
 ],
 "metadata": {
  "kernelspec": {
   "display_name": "acid_stable_pbx",
   "language": "python",
   "name": "acid_stable_pbx"
  },
  "language_info": {
   "codemirror_mode": {
    "name": "ipython",
    "version": 3
   },
   "file_extension": ".py",
   "mimetype": "text/x-python",
   "name": "python",
   "nbconvert_exporter": "python",
   "pygments_lexer": "ipython3",
   "version": "3.8.12"
  }
 },
 "nbformat": 4,
 "nbformat_minor": 5
}
