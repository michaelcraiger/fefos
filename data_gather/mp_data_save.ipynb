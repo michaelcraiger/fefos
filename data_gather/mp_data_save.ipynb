{
 "cells": [
  {
   "cell_type": "markdown",
   "id": "f7cf05c2",
   "metadata": {},
   "source": [
    "# Saving Materials Project data\n",
    "\n",
    "In this notebook, we run through the elements that we need unary and binary oxide formation energies for."
   ]
  },
  {
   "cell_type": "code",
   "execution_count": 1,
   "id": "0830946a",
   "metadata": {},
   "outputs": [],
   "source": [
    "import pickle\n",
    "\n",
    "import numpy as np\n",
    "import matplotlib.pyplot as plt\n",
    "\n",
    "from collections import defaultdict\n",
    "\n",
    "from pymatgen.ext.matproj import MPRester\n",
    "\n",
    "# Initialize the MP Rester\n",
    "mpr = MPRester('pn8XdbGhMrv90STu')\n"
   ]
  },
  {
   "cell_type": "code",
   "execution_count": 2,
   "id": "6dfda9b8",
   "metadata": {},
   "outputs": [],
   "source": [
    "elements =  [ \"Ti\", \"V\", \"Cr\", \"Mn\", \"Fe\", \"Co\", \"Ni\", \"Cu\", \"Nb\", \"Mo\", \n",
    "             \"Li\", \"Be\", \"Na\", \"Mg\", \"K\", \"Ca\", \"Rb\", \"Sr\", \"Cs\", \"Ba\", # Alkalis\n",
    "            \"Sc\", \"Ti\", \"V\", \"Cr\", \"Mn\", \"Fe\", \"Co\", \"Ni\", \"Cu\", \"Zn\",\n",
    "            \"Ga\", \"Ge\", \"As\", \"Se\", \"Br\",\n",
    "            \"Y\", \"Zr\", \"Nb\", \"Mo\", \"Tc\", \"Ru\", \"Rh\", \"Pd\", \"Ag\", \"Cd\",\n",
    "            \"In\", \"Sn\", \"Sb\", \"Te\", \"I\",\n",
    "            \"Hf\", \"Ta\", \"W\", \"Re\", \"Os\", \"Ir\", \"Pt\", \"Au\", \"Hg\", \n",
    "            \"Tl\", \"Pb\", \"Bi\",\n",
    "           \"La\", \"Ce\", \"Nd\", \"Pr\", \"Sm\", \"Eu\", \"Gd\", \"Tb\", \"Dy\", \"Ho\", \"Er\", \"Tm\", \"Yb\", \"Lu\"]\n",
    "\n",
    "ele2gs = defaultdict()\n",
    "\n",
    "for ele in elements:\n",
    "    entries = mpr.get_entries(ele)\n",
    "    for entry in entries:\n",
    "        ene_per_atom = entry.energy/list(dict(entry.composition).values())[0]\n",
    "        if ele not in ele2gs.keys():\n",
    "            ele2gs[ele] = ene_per_atom\n",
    "        elif ene_per_atom<ele2gs[ele]:\n",
    "            ele2gs[ele] = ene_per_atom\n",
    "            \n",
    "pickle.dump(ele2gs, open(\"ele2gs.p\", \"wb\"))\n",
    "\n",
    "ele2gs[\"O\"] = -4.95"
   ]
  },
  {
   "cell_type": "code",
   "execution_count": 3,
   "id": "11084fb7",
   "metadata": {},
   "outputs": [],
   "source": [
    "def calc_formation_ene(energy_per_atom, composition):\n",
    "    \"\"\"\n",
    "    Need to calculate formation energies ourselves because materials project formation energies are inconsistent.\n",
    "    See https://matsci.org/t/formation-energy-calculation/41574 for further information.\n",
    "    \n",
    "    \"\"\"    \n",
    "    total_atoms = sum(composition.values())\n",
    "    formation_energy = energy_per_atom\n",
    "    for element in composition:\n",
    "        formation_energy-=ele2gs[element]*composition[element]/total_atoms\n",
    "    return formation_energy\n",
    "\n",
    "def get_chemsys_data(chemsys):\n",
    "    query = mpr.get_data(chemsys)\n",
    "    material_ids = [q['material_id'] for q in query]\n",
    "    material_names = [q['pretty_formula'] for q in query]\n",
    "    material_enes = [q['energy_per_atom'] for q in query]\n",
    "    material_comps = [q['unit_cell_formula'] for q in query]\n",
    "    \n",
    "    material_names_ = []\n",
    "    material_ids_ = []\n",
    "    form_enes_ = []\n",
    "    for idx, energy in enumerate(material_enes):\n",
    "        ref_form_ene = calc_formation_ene(energy, material_comps[idx])\n",
    "        form_enes_.append(ref_form_ene)\n",
    "        material_names_.append(material_names[idx])\n",
    "        material_ids_.append(material_ids[idx])\n",
    "\n",
    "    return material_ids_, material_names_, form_enes_"
   ]
  },
  {
   "cell_type": "markdown",
   "id": "aca2bb90",
   "metadata": {},
   "source": [
    "# takes about 20 minutes to run this"
   ]
  },
  {
   "cell_type": "code",
   "execution_count": 4,
   "id": "c8e704da",
   "metadata": {},
   "outputs": [],
   "source": [
    "binary_oxide_data = defaultdict()\n",
    "unary_oxide_data = defaultdict()\n",
    "\n",
    "for idx, ele in enumerate(elements):\n",
    "    if ele not in unary_oxide_data.keys():\n",
    "        # save unary for ele, saves iterating over the same oxides\n",
    "        ids_, names_, form_enes = get_chemsys_data('{}-O'.format(ele))\n",
    "        \n",
    "        assert len(ids_)==len(names_)==len(form_enes)\n",
    "        \n",
    "        unary_oxide_data[ele] = {\n",
    "            \"names\": names_,\n",
    "            \"mp_ids\": ids_,\n",
    "            \"formation_energies\": form_enes\n",
    "        }\n",
    "        pickle.dump(unary_oxide_data, open(\"unary_oxide_data.p\", \"wb\"))\n",
    "     \n",
    "    for ele2 in elements[idx:]:\n",
    "        # save unary for ele2\n",
    "        if ele2 not in unary_oxide_data.keys():\n",
    "            ids_, names_, form_enes = get_chemsys_data('{}-O'.format(ele2))\n",
    "\n",
    "            assert len(ids_)==len(names_)==len(form_enes)\n",
    "\n",
    "            unary_oxide_data[ele2] = {\n",
    "                \"names\": names_,\n",
    "                \"mp_ids\": ids_,\n",
    "                \"formation_energies\": form_enes\n",
    "            }\n",
    "            pickle.dump(unary_oxide_data, open(\"unary_oxide_data.p\", \"wb\"))\n",
    "        \n",
    "        \n",
    "        if ele+\"_\"+ele2 in binary_oxide_data.keys() or ele==ele2:\n",
    "            continue    \n",
    "        # save binary\n",
    "        ids_, names_, form_enes = get_chemsys_data('{}-{}-O'.format(ele, ele2))\n",
    "\n",
    "        assert len(ids_)==len(names_)==len(form_enes)\n",
    "\n",
    "        binary_oxide_data[ele+\"_\"+ele2] = {\n",
    "            \"names\": names_,\n",
    "            \"mp_ids\": ids_,\n",
    "            \"formation_energies\": form_enes\n",
    "        }\n",
    "        pickle.dump(unary_oxide_data, open(\"binary_oxide_data.p\", \"wb\"))\n",
    "\n"
   ]
  },
  {
   "cell_type": "code",
   "execution_count": null,
   "id": "ade52ad5",
   "metadata": {},
   "outputs": [],
   "source": []
  }
 ],
 "metadata": {
  "kernelspec": {
   "display_name": "acid_stable_pbx",
   "language": "python",
   "name": "acid_stable_pbx"
  },
  "language_info": {
   "codemirror_mode": {
    "name": "ipython",
    "version": 3
   },
   "file_extension": ".py",
   "mimetype": "text/x-python",
   "name": "python",
   "nbconvert_exporter": "python",
   "pygments_lexer": "ipython3",
   "version": "3.8.12"
  }
 },
 "nbformat": 4,
 "nbformat_minor": 5
}
